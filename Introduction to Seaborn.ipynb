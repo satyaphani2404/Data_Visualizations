{
 "cells": [
  {
   "cell_type": "markdown",
   "metadata": {},
   "source": [
    "## Introduction to Seaborn\n",
    "\n",
    "Seaborn is a Data Visualization library for Python Programming Language. It supports all the Different Types of Visualizations and plots to draw Charts and Graphs required for the analysis of Datastes and also lets us plot Statistical Data which is of high importance to understand the data.\n",
    "\n",
    "* **Why Seaborn if we have already learnt Matplotlib ?**\n",
    "\n",
    "    * Seaborn helps us to define different themes on our plots.\n",
    "    * Seaborn helps us to apply different palettes on our charts very easily.\n",
    "    * Seaborn also helps us to plot Statistical Charts very easily.\n",
    "    * It has more options in comparison to matplotlib.\n",
    "    * It is a more advanced Data Visualization Library with many advantages.\n",
    "    \n",
    " &nbsp;\n",
    " \n",
    "* **What we will Learn from this Tutorial ?**\n",
    "    \n",
    "    * Making Line Charts\n",
    "    * Making Multiple Line Charts\n",
    "    * Making Bar Charts\n",
    "    * Making Pie Charts\n",
    "    * Making Scatter Charts\n",
    "    * Making Distribution Charts\n",
    "    * Making Box Plots\n",
    "    * Making Violin Charts\n",
    "    * Making Strip Plots\n",
    "    * Making Swarm Plots\n",
    "    * Making Joint Plots\n",
    "    * Making Heat Maps\n",
    "    * Making Kde Plots"
   ]
  },
  {
   "cell_type": "code",
   "execution_count": null,
   "metadata": {},
   "outputs": [],
   "source": [
    "# lets import basic libraries\n",
    "import numpy as np\n",
    "import pandas as pd\n",
    "\n",
    "# for data visualizations\n",
    "import matplotlib.pyplot as plt\n",
    "import seaborn as sns"
   ]
  },
  {
   "cell_type": "code",
   "execution_count": null,
   "metadata": {},
   "outputs": [],
   "source": [
    "# lets import the dataset\n",
    "data = pd.read_csv('Datasets/employee.csv')\n",
    "\n",
    "# lets also check the shape of the dataset\n",
    "data.shape"
   ]
  },
  {
   "cell_type": "code",
   "execution_count": null,
   "metadata": {},
   "outputs": [],
   "source": [
    "# lets also check the head of the dataset\n",
    "pd.set_option('max_columns', 300)\n",
    "data.head()"
   ]
  },
  {
   "cell_type": "markdown",
   "metadata": {},
   "source": [
    "### Bar Charts"
   ]
  },
  {
   "cell_type": "code",
   "execution_count": null,
   "metadata": {},
   "outputs": [],
   "source": [
    "# lets check the documentation of the seaborn line plot\n",
    "help(sns.barplot)"
   ]
  },
  {
   "cell_type": "code",
   "execution_count": null,
   "metadata": {},
   "outputs": [],
   "source": [
    "# setting the size of the figure\n",
    "plt.rcParams['figure.figsize'] = (9, 4)\n",
    "\n",
    "# plotting a bar chart\n",
    "sns.barplot(x = data['Department'], \n",
    "            y = data['Age'], \n",
    "            palette = 'Greens')\n",
    "plt.title('Various Departments in the Organization')\n",
    "plt.show()"
   ]
  },
  {
   "cell_type": "code",
   "execution_count": null,
   "metadata": {},
   "outputs": [],
   "source": [
    "# setting the size of the plot\n",
    "plt.rcParams['figure.figsize'] = (9, 4)\n",
    "\n",
    "# plotting the chart\n",
    "sns.barplot(x = data['Department'], \n",
    "            y = data['Age'], \n",
    "            hue = data['BusinessTravel'], \n",
    "            palette = 'Reds')\n",
    "plt.title('Various Departments and their Business Travel Modes')\n",
    "plt.show()"
   ]
  },
  {
   "cell_type": "markdown",
   "metadata": {},
   "source": [
    "### Count Plots"
   ]
  },
  {
   "cell_type": "code",
   "execution_count": null,
   "metadata": {},
   "outputs": [],
   "source": [
    "# lets check the documentation of countplot\n",
    "help(sns.countplot)"
   ]
  },
  {
   "cell_type": "code",
   "execution_count": null,
   "metadata": {},
   "outputs": [],
   "source": [
    "# plotting a simple count plot\n",
    "sns.countplot(data['EducationField'])\n",
    "plt.xticks(rotation = 375)\n",
    "plt.show()"
   ]
  },
  {
   "cell_type": "code",
   "execution_count": null,
   "metadata": {},
   "outputs": [],
   "source": [
    "# plotting a count plot with hue\n",
    "sns.countplot(x = data['EducationField'],\n",
    "              hue = data['Attrition'],\n",
    "              palette = 'copper')\n",
    "plt.xticks(rotation = 375)\n",
    "plt.show()"
   ]
  },
  {
   "cell_type": "markdown",
   "metadata": {},
   "source": [
    "### Line Charts"
   ]
  },
  {
   "cell_type": "code",
   "execution_count": null,
   "metadata": {},
   "outputs": [],
   "source": [
    "# lets check the documentation of line plot\n",
    "help(sns.lineplot)"
   ]
  },
  {
   "cell_type": "code",
   "execution_count": null,
   "metadata": {},
   "outputs": [],
   "source": [
    "# lets plot a simple line plot\n",
    "sns.lineplot(x = data['Department'],\n",
    "             y = data['Age'])\n",
    "plt.title('Avg. Age of Employees in different Departments')\n",
    "plt.show()"
   ]
  },
  {
   "cell_type": "code",
   "execution_count": null,
   "metadata": {},
   "outputs": [],
   "source": [
    "# lets introduce a hue into the plot\n",
    "sns.lineplot(x = data['Department'],\n",
    "             y = data['Age'],\n",
    "             hue = data['EducationField'])\n",
    "plt.title('Avg Age of Employee in Each Department wrt Education Fields')\n",
    "plt.show()"
   ]
  },
  {
   "cell_type": "markdown",
   "metadata": {},
   "source": [
    "### Scatter Charts"
   ]
  },
  {
   "cell_type": "code",
   "execution_count": null,
   "metadata": {},
   "outputs": [],
   "source": [
    "help(sns.scatterplot)"
   ]
  },
  {
   "cell_type": "code",
   "execution_count": null,
   "metadata": {},
   "outputs": [],
   "source": [
    "# lets make a simple scatter plot\n",
    "sns.scatterplot(x = data['Age'],\n",
    "                y = data['MonthlyRate'])\n",
    "plt.title('Age vs Monthly Rate')\n",
    "plt.show()"
   ]
  },
  {
   "cell_type": "code",
   "execution_count": null,
   "metadata": {},
   "outputs": [],
   "source": [
    "# lets add a hue element in the data\n",
    "sns.scatterplot(x = data['Age'],\n",
    "                y = data['MonthlyRate'],\n",
    "                hue = data['Attrition'])\n",
    "plt.title('Age vs Monthly Rate')\n",
    "plt.show()"
   ]
  },
  {
   "cell_type": "code",
   "execution_count": null,
   "metadata": {},
   "outputs": [],
   "source": [
    "# lets add a hue and a size element in the data\n",
    "sns.scatterplot(x = data['Age'],\n",
    "                y = data['MonthlyRate'],\n",
    "                hue = data['Attrition'],\n",
    "                size = data['MonthlyRate'])\n",
    "plt.title('Age vs Monthly Rate')\n",
    "plt.show()"
   ]
  },
  {
   "cell_type": "markdown",
   "metadata": {},
   "source": [
    "### Distribution Charts"
   ]
  },
  {
   "cell_type": "code",
   "execution_count": null,
   "metadata": {},
   "outputs": [],
   "source": [
    "#lets check the documentation of distribution plot\n",
    "help(sns.distplot)"
   ]
  },
  {
   "cell_type": "code",
   "execution_count": null,
   "metadata": {},
   "outputs": [],
   "source": [
    "# lets make a simple distribution distribution plot\n",
    "sns.distplot(data['Age'],\n",
    "             color = 'red')\n",
    "plt.title('Distribution of Employees Age')\n",
    "plt.show()"
   ]
  },
  {
   "cell_type": "markdown",
   "metadata": {},
   "source": [
    "### Box Plots"
   ]
  },
  {
   "cell_type": "code",
   "execution_count": null,
   "metadata": {},
   "outputs": [],
   "source": [
    "# lets check the documentation of box plot\n",
    "help(sns.boxplot)"
   ]
  },
  {
   "cell_type": "code",
   "execution_count": null,
   "metadata": {},
   "outputs": [],
   "source": [
    "# lets make a simple box plot\n",
    "sns.boxplot(data['Department'],\n",
    "            data['Age'],\n",
    "           palette = 'Blues')\n",
    "plt.show()"
   ]
  },
  {
   "cell_type": "code",
   "execution_count": null,
   "metadata": {},
   "outputs": [],
   "source": [
    "# lets make a box plot with hue element\n",
    "sns.boxplot(x = data['Department'],\n",
    "            y = data['Age'],\n",
    "            hue = data['Attrition'],\n",
    "            palette = 'Reds')\n",
    "plt.show()"
   ]
  },
  {
   "cell_type": "markdown",
   "metadata": {},
   "source": [
    "### Boxen Plots"
   ]
  },
  {
   "cell_type": "code",
   "execution_count": null,
   "metadata": {},
   "outputs": [],
   "source": [
    "# lets check the documentation of boxen plots\n",
    "help(sns.boxenplot)"
   ]
  },
  {
   "cell_type": "code",
   "execution_count": null,
   "metadata": {},
   "outputs": [],
   "source": [
    "# lets plot a boxen plot\n",
    "sns.boxenplot(x = data['BusinessTravel'],\n",
    "              y = data['MonthlyRate'],\n",
    "              palette = 'copper')\n",
    "plt.show()"
   ]
  },
  {
   "cell_type": "code",
   "execution_count": null,
   "metadata": {},
   "outputs": [],
   "source": [
    "# lets plot a boxen plot with a hue element\n",
    "sns.boxenplot(x = data['BusinessTravel'],\n",
    "              y = data['MonthlyRate'],\n",
    "              palette = 'pink', \n",
    "              hue = data['Attrition'])\n",
    "plt.show()"
   ]
  },
  {
   "cell_type": "markdown",
   "metadata": {},
   "source": [
    "### Violin Plots"
   ]
  },
  {
   "cell_type": "code",
   "execution_count": null,
   "metadata": {},
   "outputs": [],
   "source": [
    "# lets check the documentation of violin plots\n",
    "help(sns.violinplot)"
   ]
  },
  {
   "cell_type": "code",
   "execution_count": null,
   "metadata": {},
   "outputs": [],
   "source": [
    "# lets plot a simple violin plot\n",
    "sns.violinplot(x = data['BusinessTravel'],\n",
    "               y = data['Age'],\n",
    "               palette = 'rainbow')\n",
    "plt.show()"
   ]
  },
  {
   "cell_type": "code",
   "execution_count": null,
   "metadata": {},
   "outputs": [],
   "source": [
    "# lets plot a violin plot with a hue element\n",
    "sns.violinplot(x = data['EducationField'],\n",
    "               y = data['Age'],\n",
    "               palette = 'spring',\n",
    "               hue = data['Attrition'])\n",
    "plt.show()"
   ]
  },
  {
   "cell_type": "code",
   "execution_count": null,
   "metadata": {},
   "outputs": [],
   "source": [
    "# lets plot a violin plot with a hue element with split\n",
    "sns.violinplot(x = data['EducationField'],\n",
    "               y = data['Age'],\n",
    "               palette = 'spring',\n",
    "               hue = data['Attrition'],\n",
    "               split = True)\n",
    "plt.show()"
   ]
  },
  {
   "cell_type": "markdown",
   "metadata": {},
   "source": [
    "### Strip Plots"
   ]
  },
  {
   "cell_type": "code",
   "execution_count": null,
   "metadata": {},
   "outputs": [],
   "source": [
    "# lets check the documentation of stripplot\n",
    "help(sns.stripplot)"
   ]
  },
  {
   "cell_type": "code",
   "execution_count": null,
   "metadata": {},
   "outputs": [],
   "source": [
    "# lets make a simple strip plots\n",
    "sns.stripplot(x = data['Attrition'],\n",
    "              y = data['MonthlyRate'],\n",
    "              palette = 'summer')\n",
    "plt.show()"
   ]
  },
  {
   "cell_type": "code",
   "execution_count": null,
   "metadata": {},
   "outputs": [],
   "source": [
    "# lets make a simple strip plots with a hue element\n",
    "sns.stripplot(x = data['Attrition'],\n",
    "              y = data['MonthlyRate'],\n",
    "              palette = 'summer',\n",
    "              dodge = True,\n",
    "              hue = data['BusinessTravel'])\n",
    "plt.show()"
   ]
  },
  {
   "cell_type": "markdown",
   "metadata": {},
   "source": [
    "### Swarm Plots"
   ]
  },
  {
   "cell_type": "code",
   "execution_count": null,
   "metadata": {},
   "outputs": [],
   "source": [
    "# lets check the documentation of swarm plots\n",
    "help(sns.swarmplot)"
   ]
  },
  {
   "cell_type": "code",
   "execution_count": null,
   "metadata": {},
   "outputs": [],
   "source": [
    "# lets make a simple swarm plot\n",
    "sns.swarmplot(x = data['EducationField'],\n",
    "              y = data['Age'])\n",
    "plt.show()"
   ]
  },
  {
   "cell_type": "markdown",
   "metadata": {},
   "source": [
    "### Joint Plots"
   ]
  },
  {
   "cell_type": "code",
   "execution_count": null,
   "metadata": {},
   "outputs": [],
   "source": [
    "# lets also check the documentation of joint plots\n",
    "help(sns.jointplot)"
   ]
  },
  {
   "cell_type": "code",
   "execution_count": null,
   "metadata": {},
   "outputs": [],
   "source": [
    "# lets plot a simple joint plot (by default the kind is scatter)\n",
    "sns.jointplot(x = data['MonthlyRate'],\n",
    "              y = data['HourlyRate'])\n",
    "plt.show()"
   ]
  },
  {
   "cell_type": "code",
   "execution_count": null,
   "metadata": {},
   "outputs": [],
   "source": [
    "# joint plot with kind = reg\n",
    "sns.jointplot(x = data['MonthlyRate'],\n",
    "              y = data['HourlyRate'],\n",
    "              kind = 'reg',\n",
    "              color = 'pink')\n",
    "plt.show()"
   ]
  },
  {
   "cell_type": "code",
   "execution_count": null,
   "metadata": {},
   "outputs": [],
   "source": [
    "# joint plot with kind = resid\n",
    "sns.jointplot(x = data['MonthlyRate'],\n",
    "              y = data['HourlyRate'],\n",
    "              kind = 'resid',\n",
    "              color = 'green')\n",
    "plt.show()"
   ]
  },
  {
   "cell_type": "code",
   "execution_count": null,
   "metadata": {},
   "outputs": [],
   "source": [
    "# joint plot with kind = hex\n",
    "sns.jointplot(x = data['MonthlyRate'],\n",
    "              y = data['HourlyRate'],\n",
    "              kind = 'hex',\n",
    "              color = 'yellow')\n",
    "plt.show()"
   ]
  },
  {
   "cell_type": "code",
   "execution_count": null,
   "metadata": {},
   "outputs": [],
   "source": [
    "# joint plot with kind = kde\n",
    "sns.jointplot(x = data['MonthlyRate'],\n",
    "              y = data['HourlyRate'],\n",
    "              kind = 'kde',\n",
    "              color = 'brown')\n",
    "plt.show()"
   ]
  },
  {
   "cell_type": "markdown",
   "metadata": {},
   "source": [
    "### Heat Maps"
   ]
  },
  {
   "cell_type": "code",
   "execution_count": null,
   "metadata": {},
   "outputs": [],
   "source": [
    "# lets check the documentation of heat maps\n",
    "help(sns.heatmap)"
   ]
  },
  {
   "cell_type": "code",
   "execution_count": null,
   "metadata": {},
   "outputs": [],
   "source": [
    "sns.heatmap(data.corr())\n",
    "plt.show()"
   ]
  },
  {
   "cell_type": "markdown",
   "metadata": {},
   "source": [
    "### Kde plots"
   ]
  },
  {
   "cell_type": "code",
   "execution_count": null,
   "metadata": {},
   "outputs": [],
   "source": [
    "# lets check the documentation of kde plots\n",
    "help(sns.kdeplot)"
   ]
  },
  {
   "cell_type": "code",
   "execution_count": null,
   "metadata": {},
   "outputs": [],
   "source": [
    "# lets plot a simple kde plot\n",
    "sns.kdeplot(data['MonthlyRate'], data['Age'])\n",
    "plt.show()"
   ]
  },
  {
   "cell_type": "markdown",
   "metadata": {},
   "source": [
    "### Pairplots"
   ]
  },
  {
   "cell_type": "code",
   "execution_count": null,
   "metadata": {},
   "outputs": [],
   "source": [
    "# lets also check the documentation of pairplots\n",
    "help(sns.pairplot)"
   ]
  },
  {
   "cell_type": "code",
   "execution_count": null,
   "metadata": {},
   "outputs": [],
   "source": [
    "heart = pd.read_csv('heart.csv')\n",
    "sns.pairplot(heart)"
   ]
  }
 ],
 "metadata": {
  "kernelspec": {
   "display_name": "Python 3",
   "language": "python",
   "name": "python3"
  },
  "language_info": {
   "codemirror_mode": {
    "name": "ipython",
    "version": 3
   },
   "file_extension": ".py",
   "mimetype": "text/x-python",
   "name": "python",
   "nbconvert_exporter": "python",
   "pygments_lexer": "ipython3",
   "version": "3.7.7"
  }
 },
 "nbformat": 4,
 "nbformat_minor": 4
}
